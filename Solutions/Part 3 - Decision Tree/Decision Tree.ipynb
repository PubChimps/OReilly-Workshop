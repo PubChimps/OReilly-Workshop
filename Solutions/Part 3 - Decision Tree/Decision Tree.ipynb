{
 "cells": [
  {
   "cell_type": "markdown",
   "metadata": {},
   "source": [
    "## Machine Learning Tutorials with Watson Machine Learning\n",
    "### Part 3 - Decision Trees \n",
    "\n",
    "This tutoral was adapted from the Spark documentation at https://spark.apache.org/docs/2.1.1/ml-classification-regression.html#decision-tree-classifier\n",
    "\n",
    "### 3.1 Add Data\n",
    "\n",
    "Before beginning, you will find it is necessary to load the text file into dsx. \n",
    "Download it from the GitHub repository and upload into dsx in the upper right hand corner \"Find and Add Data\""
   ]
  },
  {
   "cell_type": "code",
   "execution_count": null,
   "metadata": {
    "collapsed": true
   },
   "outputs": [],
   "source": [
    "# once upload, select \"sample_libsvm_data.txt\"\n",
    "# under Insert to Code, select Insert SparkSession Setup, place that code here\n",
    "import ibmos2spark\n",
    "\n",
    "# @hidden_cell\n",
    "credentials = {\n",
    "    'auth_url': 'https://identity.open.softlayer.com',\n",
    "    'project_id': 'df584add39774a4492e9ac43bbfe2944',\n",
    "    'region': 'dallas',\n",
    "    'user_id': '27783e2082124d2e9bd2fe45de4ec98d',\n",
    "    'username': 'member_6159c7d53ab652ef6d55e41ec4e92bf82ce9db34',\n",
    "    'password': 'W4x3?,k_2WCn_I-1'\n",
    "}\n",
    "\n",
    "configuration_name = 'os_eea0fae16ed84b69a7875db7dcc2ba81_configs'\n",
    "bmos = ibmos2spark.bluemix(sc, credentials, configuration_name)\n",
    "\n",
    "from pyspark.sql import SparkSession\n",
    "spark = SparkSession.builder.getOrCreate()\n",
    "# Please read the documentation of PySpark to learn more about the possibilities to load data files.\n",
    "# PySpark documentation: https://spark.apache.org/docs/2.0.1/api/python/pyspark.sql.html#pyspark.sql.SparkSession\n",
    "# The SparkSession object is already initalized for you.\n",
    "# The following variable contains the path to your file on your Object Storage.\n",
    "path_1 = bmos.url('OReilly', 'sample_libsvm_data.txt')\n"
   ]
  },
  {
   "cell_type": "code",
   "execution_count": null,
   "metadata": {},
   "outputs": [],
   "source": [
    "#print the path created for you and copy it in the next cell\n",
    "path_1"
   ]
  },
  {
   "cell_type": "code",
   "execution_count": null,
   "metadata": {
    "collapsed": true
   },
   "outputs": [],
   "source": [
    "data = spark.read.format(\"libsvm\").load('swift2d://OReilly.os_eea0fae16ed84b69a7875db7dcc2ba81_configs/sample_libsvm_data.txt')\n"
   ]
  },
  {
   "cell_type": "markdown",
   "metadata": {},
   "source": [
    "### 3.2 Build Decision Tree Model pipline \n",
    "What is differs between building a Decision Tree Model and a Linear Regression Model?"
   ]
  },
  {
   "cell_type": "code",
   "execution_count": null,
   "metadata": {
    "collapsed": true
   },
   "outputs": [],
   "source": [
    "from pyspark.ml import Pipeline\n",
    "from pyspark.ml.classification import DecisionTreeClassifier\n",
    "from pyspark.ml.feature import StringIndexer, VectorIndexer\n",
    "from pyspark.ml.evaluation import MulticlassClassificationEvaluator"
   ]
  },
  {
   "cell_type": "code",
   "execution_count": null,
   "metadata": {},
   "outputs": [],
   "source": [
    "# Index labels, adding metadata to the label column.\n",
    "# Fit on whole dataset to include all labels in index.\n",
    "labelIndexer = StringIndexer(inputCol=\"label\", outputCol=\"indexedLabel\").fit(data)\n",
    "# Automatically identify categorical features, and index them.\n",
    "# We specify maxCategories so features with > 4 distinct values are treated as continuous.\n",
    "featureIndexer =\\\n",
    "    VectorIndexer(inputCol=\"features\", outputCol=\"indexedFeatures\", maxCategories=4).fit(data)\n",
    "\n",
    "# Split the data into training and test sets (30% held out for testing)\n",
    "(trainingData, testData) = data.randomSplit([0.7, 0.3])\n",
    "\n",
    "# Train a DecisionTree model.\n",
    "dt = DecisionTreeClassifier(labelCol=\"indexedLabel\", featuresCol=\"indexedFeatures\")\n",
    "\n",
    "# Chain indexers and tree in a Pipeline\n",
    "pipeline = Pipeline(stages=[labelIndexer, featureIndexer, dt])\n",
    "\n",
    "# Train model.  This also runs the indexers.\n",
    "model = pipeline.fit(trainingData)\n",
    "\n",
    "# Make predictions.\n",
    "predictions = model.transform(testData)\n",
    "\n",
    "# Select example rows to display.\n",
    "predictions.select(\"prediction\", \"indexedLabel\", \"features\").show(5)\n",
    "\n",
    "# Select (prediction, true label) and compute test error\n",
    "evaluator = MulticlassClassificationEvaluator(\n",
    "    labelCol=\"indexedLabel\", predictionCol=\"prediction\", metricName=\"accuracy\")\n",
    "accuracy = evaluator.evaluate(predictions)\n",
    "print \"Test Error = %g \" % (1.0 - accuracy)\n",
    "\n",
    "treeModel = model.stages[2]\n",
    "# summary only\n",
    "print treeModel"
   ]
  },
  {
   "cell_type": "markdown",
   "metadata": {},
   "source": [
    "### 3.3 Exercise - Watson Machine Learning\n",
    "#### save this model and publish it to Watson Machine Learning "
   ]
  },
  {
   "cell_type": "code",
   "execution_count": null,
   "metadata": {
    "collapsed": true
   },
   "outputs": [],
   "source": [
    "from repository.mlrepositoryclient import MLRepositoryClient\n",
    "from repository.mlrepositoryartifact import MLRepositoryArtifact"
   ]
  },
  {
   "cell_type": "code",
   "execution_count": null,
   "metadata": {},
   "outputs": [],
   "source": [
    "service_path = 'https://ibm-watson-ml.mybluemix.net'\n",
    "instance_id = \"437c58bc-4c25-4002-98de-e822fa4ec797\"\n",
    "username = \"cfd3c4a9-159e-476d-b097-1cd133d884d7\"\n",
    "password = \"ca465385-c8e6-4d35-8e82-0e47e6d399bf\"\n",
    "partner_saved_model_uid = '\"485019ab-37df-4bb5-b391-c1064781a9e7\"'\n",
    "\n",
    "    \n",
    "ml_repository_client = MLRepositoryClient(service_path)\n",
    "ml_repository_client.authorize(username, password)\n",
    "\n",
    "model_artifact = MLRepositoryArtifact(model, name='decision tree test', training_data=trainingData)\n",
    "saved_model = ml_repository_client.models.save(model_artifact)\n",
    "\n",
    "loadedModel = ml_repository_client.models.get(saved_model.uid)\n",
    "#print str(loadedModel.name)\n",
    "\n",
    "loadedModel.model_instance().transform(testData).select('indexedLabel', 'prediction').show()"
   ]
  }
 ],
 "metadata": {
  "kernelspec": {
   "display_name": "Python 2 with Spark 2.0",
   "language": "python",
   "name": "python2-spark20"
  },
  "language_info": {
   "codemirror_mode": {
    "name": "ipython",
    "version": 2
   },
   "file_extension": ".py",
   "mimetype": "text/x-python",
   "name": "python",
   "nbconvert_exporter": "python",
   "pygments_lexer": "ipython2",
   "version": "2.7.11"
  }
 },
 "nbformat": 4,
 "nbformat_minor": 1
}
