{
 "cells": [
  {
   "cell_type": "markdown",
   "metadata": {
    "collapsed": true
   },
   "source": [
    "## Machine Learning Tutorials with Watson Machine Learning\n",
    "### Part 2 - Multivariate Linear Regression "
   ]
  },
  {
   "cell_type": "markdown",
   "metadata": {},
   "source": [
    "for use in IBM Data Science Experience"
   ]
  },
  {
   "cell_type": "markdown",
   "metadata": {},
   "source": [
    "### 1.1 Create data frames"
   ]
  },
  {
   "cell_type": "code",
   "execution_count": 1,
   "metadata": {
    "collapsed": true
   },
   "outputs": [],
   "source": [
    "import random\n",
    "import numpy as np\n",
    "import pylab as pl\n",
    "\n",
    "from pyspark.sql.types import *\n",
    "from pyspark.ml.linalg import SparseVector, VectorUDT\n",
    "from pyspark.ml import Pipeline, Model\n",
    "from pyspark.sql.types import *\n",
    "from pyspark.ml.feature import VectorAssembler\n",
    "from pyspark.ml.regression import LinearRegression\n",
    "\n",
    "from repository.mlrepositoryclient import MLRepositoryClient\n",
    "from repository.mlrepositoryartifact import MLRepositoryArtifact\n",
    "\n",
    "import urllib3, requests, json"
   ]
  },
  {
   "cell_type": "code",
   "execution_count": 3,
   "metadata": {},
   "outputs": [
    {
     "name": "stdout",
     "output_type": "stream",
     "text": [
      "+------------------+----+----+----+\n",
      "|             label|  x1|  x2|  x3|\n",
      "+------------------+----+----+----+\n",
      "|1.2893073437915807| 0.0| 0.0| 0.0|\n",
      "| 4.598080974185647| 1.0| 1.0| 1.0|\n",
      "|12.161442572193826| 2.0| 2.0| 2.0|\n",
      "| 19.58362605290612| 3.0| 3.0| 3.0|\n",
      "| 24.67758381796672| 4.0| 4.0| 4.0|\n",
      "|30.486009867208384| 5.0| 5.0| 5.0|\n",
      "| 35.65789522080228| 6.0| 6.0| 6.0|\n",
      "| 40.94325750297908| 7.0| 7.0| 7.0|\n",
      "| 54.51674647593322| 9.0| 9.0| 9.0|\n",
      "| 66.09696086066532|11.0|11.0|11.0|\n",
      "|  72.4114916558236|12.0|12.0|12.0|\n",
      "| 77.19666817685851|13.0|13.0|13.0|\n",
      "| 85.75529601258764|14.0|14.0|14.0|\n",
      "| 90.08228553533782|15.0|15.0|15.0|\n",
      "| 95.90588609542836|16.0|16.0|16.0|\n",
      "|102.46249621905902|17.0|17.0|17.0|\n",
      "|108.83463298031684|18.0|18.0|18.0|\n",
      "|118.55706616173079|20.0|20.0|20.0|\n",
      "|126.64086531630691|21.0|21.0|21.0|\n",
      "| 130.7632000502886|22.0|22.0|22.0|\n",
      "+------------------+----+----+----+\n",
      "only showing top 20 rows\n",
      "\n"
     ]
    }
   ],
   "source": [
    "x1 = [num / 1.0 for num in range(100)]\n",
    "x2 = [num / 1.0 for num in range(100)]\n",
    "x3 = [num / 1.0 for num in range(100)]\n",
    "y = range(100)\n",
    "\n",
    "for i in range(0,100):\n",
    "    y[i] = x1[i] + random.random() * random.uniform(-1.5,1.5) + \\\n",
    "           2 * x2[i] + random.random() * random.uniform(-1.5,1.5) + \\\n",
    "           3 * x3[i] + random.random() * random.uniform(-1.5,1.5)\n",
    "\n",
    "xytuple = zip(y,x1,x2,x3)\n",
    "\n",
    "\n",
    "schema = StructType([\n",
    "    StructField(\"label\", DoubleType(), True),\n",
    "    StructField(\"x1\", DoubleType(), True),\n",
    "    StructField(\"x2\", DoubleType(), True),\n",
    "    StructField(\"x3\", DoubleType(), True)\n",
    "])\n",
    "\n",
    "df = sqlContext.createDataFrame(xytuple, schema)\n",
    "trainingdf, test1df, test2df = df.randomSplit([0.8, 0.1, 0.1])\n",
    "\n",
    "trainingdf.show()"
   ]
  },
  {
   "cell_type": "markdown",
   "metadata": {},
   "source": [
    "### 1.2 Create Spark ML Pipeline\n",
    "group x values into single feature vector this will be beneficial in the next exercise, involving multiple features"
   ]
  },
  {
   "cell_type": "code",
   "execution_count": 4,
   "metadata": {
    "collapsed": true
   },
   "outputs": [],
   "source": [
    "featuresvector = VectorAssembler(inputCols=[\"x1\", \"x2\", \"x3\"], outputCol=\"features\")"
   ]
  },
  {
   "cell_type": "markdown",
   "metadata": {},
   "source": [
    "create linear regression instance"
   ]
  },
  {
   "cell_type": "code",
   "execution_count": 5,
   "metadata": {
    "collapsed": true
   },
   "outputs": [],
   "source": [
    "lr = LinearRegression(maxIter=10, regParam=0.3, elasticNetParam=0.8)"
   ]
  },
  {
   "cell_type": "markdown",
   "metadata": {},
   "source": [
    "multiple ML steps can be executed at once by utilizing a pipeline, here we build out a pipeline that combines features in a single vector, then executes a linear regression model on the resulting (label, feature). We then run this pipeline using our training data"
   ]
  },
  {
   "cell_type": "code",
   "execution_count": 6,
   "metadata": {
    "collapsed": true
   },
   "outputs": [],
   "source": [
    "pipeline = Pipeline(stages =[featuresvector, lr])\n",
    "pipelinemodel = pipeline.fit(trainingdf)"
   ]
  },
  {
   "cell_type": "markdown",
   "metadata": {},
   "source": [
    "### 1.3 Use model on test1 dataframe"
   ]
  },
  {
   "cell_type": "code",
   "execution_count": 7,
   "metadata": {},
   "outputs": [
    {
     "name": "stdout",
     "output_type": "stream",
     "text": [
      "+------------------+------------------+\n",
      "|             label|        prediction|\n",
      "+------------------+------------------+\n",
      "| 59.55696932084194| 60.45981050560152|\n",
      "|114.55018658700274|114.34873785121408|\n",
      "|149.12132404935556| 150.2746894149558|\n",
      "|228.69183616556722|228.11425113639615|\n",
      "|247.59997960516515|  246.077226918267|\n",
      "|449.22299610168005|449.65761911280333|\n",
      "|473.36216615059374| 473.6082534886311|\n",
      "|497.49228828006767| 497.5588878644589|\n",
      "| 568.5446163235997| 569.4107909919423|\n",
      "+------------------+------------------+\n",
      "\n"
     ]
    }
   ],
   "source": [
    "predictions = pipelinemodel.transform(test1df)\n",
    "predictions.select('label','prediction').show()"
   ]
  },
  {
   "cell_type": "markdown",
   "metadata": {},
   "source": [
    "### 1.4 Exercise\n",
    "#### The code above perform a linear regression training on data of the order y=x1 + 2x2 + 3x3 , plus some noise. Create data frames and deploy a model on the function y = -x1 - 5x2 - 10x3\n",
    "\n",
    "#### From the above code, what needs to be changed, what can stay the same?"
   ]
  },
  {
   "cell_type": "code",
   "execution_count": null,
   "metadata": {
    "collapsed": true
   },
   "outputs": [],
   "source": [
    "### create data the looks like y = -x1 - 5x2 - 10x3, plus some noise\n",
    "\n",
    "### convert to three pyspark dataframes: newtrainingdf, newtest1df, & newtest2df\n",
    "\n"
   ]
  },
  {
   "cell_type": "code",
   "execution_count": null,
   "metadata": {
    "collapsed": true
   },
   "outputs": [],
   "source": [
    "### build model pipeline, pipelinemodel3x\n",
    "raise NotImplementedError\n",
    "newpipelinemodel = pipeline.fit(newtrainingdf)\n",
    "\n",
    "### predict on test1_3x data\n",
    "newpredictions = newpipelinemodel.transform(newtest1df)\n",
    "\n",
    "\n",
    "### look at result by calling show() on the new prediction data frame, prediction3x\n",
    "raise NotImplementedError"
   ]
  },
  {
   "cell_type": "markdown",
   "metadata": {},
   "source": [
    "### 1.5 Save model for y = -x1 - 5x2 - 10x3 to Watson Machine Learning"
   ]
  },
  {
   "cell_type": "code",
   "execution_count": 5,
   "metadata": {},
   "outputs": [
    {
     "name": "stdout",
     "output_type": "stream",
     "text": [
      "bbea871f-a1e0-4e03-8ddd-df80d469af43\n"
     ]
    }
   ],
   "source": [
    "service_path = 'https://ibm-watson-ml.mybluemix.net'\n",
    "instance_id = '***'\n",
    "username = '***'\n",
    "password = '***'\n",
    "yourname = 'Enter Your Name Here'\n",
    "\n",
    "modelname = modelname = name + ' y = -x1 - 5x2 - 10x3'\n",
    "\n",
    "ml_repository_client = MLRepositoryClient(service_path)\n",
    "ml_repository_client.authorize(username, password)\n",
    "\n",
    "### build model artifact by pasing model pipeline, name, and training data as parameters\n",
    "model_artifact = MLRepositoryArtifact(pipelinemodel, name=modelname, training_data=training3x)\n",
    "saved_model = ml_repository_client.models.save(model_artifact)\n",
    "\n",
    "print saved_model.uid"
   ]
  },
  {
   "cell_type": "markdown",
   "metadata": {},
   "source": [
    "### 1.6 Using a Watson Machine Learning Model\n",
    "\n",
    "Ask a partner for the information below, including the model uid for their y=3x model"
   ]
  },
  {
   "cell_type": "code",
   "execution_count": null,
   "metadata": {
    "collapsed": true
   },
   "outputs": [],
   "source": [
    "service_path = 'https://ibm-watson-ml.mybluemix.net'\n",
    "partner_instance_id = '***'\n",
    "partner_username = '***'\n",
    "partner_password = '***'\n",
    "partner_saved_model_uid = '***'\n",
    "\n",
    "ml_repository_client = MLRepositoryClient(service_path)\n",
    "ml_repository_client.authorize(username, password)"
   ]
  },
  {
   "cell_type": "markdown",
   "metadata": {},
   "source": [
    "load this model and print out it's name to verify it is from your partner's WML service"
   ]
  },
  {
   "cell_type": "code",
   "execution_count": 6,
   "metadata": {},
   "outputs": [
    {
     "name": "stdout",
     "output_type": "stream",
     "text": [
      "xy linear regression\n"
     ]
    }
   ],
   "source": [
    "loadedModel = ml_repository_client.models.get(partner_saved_model_uid)\n",
    "print str(loadedModel.name)"
   ]
  },
  {
   "cell_type": "code",
   "execution_count": 7,
   "metadata": {},
   "outputs": [
    {
     "name": "stdout",
     "output_type": "stream",
     "text": [
      "+----+------------------+------------------+\n",
      "|   x|             label|        prediction|\n",
      "+----+------------------+------------------+\n",
      "| 3.0|               3.0| 3.796598221363567|\n",
      "|16.0|14.556700709207545|16.590994893460135|\n",
      "|27.0|27.201042858638854| 27.41702284677261|\n",
      "|64.0| 66.80354453415212| 63.83184414427822|\n",
      "|69.0|  69.0006978029391| 68.75276594123844|\n",
      "|72.0|              72.0| 71.70531901941456|\n",
      "+----+------------------+------------------+\n",
      "\n"
     ]
    }
   ],
   "source": [
    "loadedModel.model_instance().transform(test2_3x).select('x','label','prediction').show()"
   ]
  }
 ],
 "metadata": {
  "kernelspec": {
   "display_name": "Python 2 with Spark 2.0",
   "language": "python",
   "name": "python2-spark20"
  },
  "language_info": {
   "codemirror_mode": {
    "name": "ipython",
    "version": 2
   },
   "file_extension": ".py",
   "mimetype": "text/x-python",
   "name": "python",
   "nbconvert_exporter": "python",
   "pygments_lexer": "ipython2",
   "version": "2.7.11"
  }
 },
 "nbformat": 4,
 "nbformat_minor": 1
}
